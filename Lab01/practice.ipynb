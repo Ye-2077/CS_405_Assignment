{
 "cells": [
  {
   "cell_type": "markdown",
   "id": "d74e4c9d",
   "metadata": {},
   "source": [
    "## Solve maze\n",
    "\n",
    "You are given a map that 'W' represents a wall, 'E' represents an empty space, 'S' represents starting point, 'G' represents final goal.\n",
    "\n",
    "Write some code to determine whether you can start from 'S' and eventually read 'G'."
   ]
  },
  {
   "cell_type": "markdown",
   "id": "06c758ce",
   "metadata": {},
   "source": [
    "\n",
    "### Input:\n",
    "\n",
    "SWEEG<br>\n",
    "EWWWE<br>\n",
    "EWWWE<br>\n",
    "EEEEE<br>\n",
    "\n",
    "### Output:\n",
    "\n",
    "Yes\n",
    "\n",
    "### Input:\n",
    "\n",
    "SWEEG<br>\n",
    "EWWWE<br>\n",
    "EWWWE<br>\n",
    "EWEEE<br>\n",
    "\n",
    "### Output:\n",
    "\n",
    "No\n"
   ]
  },
  {
   "cell_type": "code",
   "execution_count": 46,
   "id": "78186adf",
   "metadata": {},
   "outputs": [
    {
     "name": "stdout",
     "output_type": "stream",
     "text": [
      "[]\n"
     ]
    }
   ],
   "source": [
    "map = [['S','W','E','E','G'],\n",
    "       ['E','W','W','W','E'],\n",
    "       ['E','W','W','W','E'],\n",
    "       ['E','W','E','E','E']]\n",
    "\n",
    "start_pos = 'S'\n",
    "end_pos = 'G'\n",
    "for row_index, row in enumerate(map):\n",
    "    if start_pos in row:\n",
    "        start_index = [row_index,row.index(start_pos)]\n",
    "        #print(start_index)\n",
    "\n",
    "    if end_pos in row:\n",
    "        end_index = [row_index,row.index(end_pos)]\n",
    "        #print(end_index)\n",
    "\n",
    "wall = 'W'\n",
    "path = 'E'\n",
    "\n",
    "up_start = [start_index[0],start_index[1]-1]\n",
    "down_start = [start_index[0],start_index[1]+1]\n",
    "left_start = [start_index[0]-1,start_index[1]]\n",
    "right_start = [start_index[0]+1,start_index[1]]\n",
    "\n",
    "pos_x = start_index[0]\n",
    "pos_y = start_index[1]\n",
    "trarget = []\n",
    "\n",
    "\n",
    "\n",
    "\n",
    "print(trarget)"
   ]
  },
  {
   "cell_type": "code",
   "execution_count": 7,
   "id": "d18d6e8e",
   "metadata": {},
   "outputs": [
    {
     "name": "stdout",
     "output_type": "stream",
     "text": [
      "元素 5 的索引是 4\n"
     ]
    }
   ],
   "source": [
    "my_list = [1, 2, 3, 4, 5, 6]\n",
    "element_to_find = 5\n",
    "\n",
    "if element_to_find in my_list:\n",
    "    index = my_list.index(element_to_find)\n",
    "    print(f\"元素 {element_to_find} 的索引是 {index}\")\n",
    "else:\n",
    "    print(f\"元素 {element_to_find} 不在列表中\")"
   ]
  }
 ],
 "metadata": {
  "kernelspec": {
   "display_name": "Python 3 (ipykernel)",
   "language": "python",
   "name": "python3"
  },
  "language_info": {
   "codemirror_mode": {
    "name": "ipython",
    "version": 3
   },
   "file_extension": ".py",
   "mimetype": "text/x-python",
   "name": "python",
   "nbconvert_exporter": "python",
   "pygments_lexer": "ipython3",
   "version": "3.8.10"
  }
 },
 "nbformat": 4,
 "nbformat_minor": 5
}
