{
 "cells": [
  {
   "cell_type": "code",
   "execution_count": 2,
   "metadata": {},
   "outputs": [
    {
     "name": "stdout",
     "output_type": "stream",
     "text": [
      "[[2 2]\n",
      " [0 0]]\n",
      "[[2. 2.]\n",
      " [0. 0.]]\n",
      "[[2 2]\n",
      " [0 0]]\n"
     ]
    }
   ],
   "source": [
    "import numpy as np\n",
    "\n",
    "\n",
    "X_train = np.array([[1,2,3],[1,2,3]])\n",
    "X_test = np.array([[1,2,1],[1,2,3]])\n",
    "test = np.repeat(X_test, X_train.shape[0], axis=0)\n",
    "train = np.tile(X_train, (X_test.shape[0], 1))\n",
    "\n",
    "delta = test-train\n",
    "L1 = np.sum(np.abs(delta), axis=1, keepdims=True)\n",
    "L1 = L1.reshape(X_test.shape[0] ,X_train.shape[0])\n",
    "print(L1)\n",
    "\n",
    "L2 = np.sqrt(np.sum(delta**2, axis=1, keepdims=True)) #complete\n",
    "L2 = L2.reshape(X_test.shape[0] ,X_train.shape[0])\n",
    "print(L2)\n",
    "\n",
    "L3 = np.max(np.abs(delta), axis=1, keepdims=True) #complete\n",
    "L3 = L3.reshape(X_test.shape[0] ,X_train.shape[0])\n",
    "print(L3)"
   ]
  },
  {
   "cell_type": "code",
   "execution_count": 3,
   "metadata": {},
   "outputs": [
    {
     "name": "stdout",
     "output_type": "stream",
     "text": [
      "[[2 3]\n",
      " [0 2]]\n"
     ]
    }
   ],
   "source": [
    "import numpy as np\n",
    "\n",
    "# 原始矩阵\n",
    "matrix = np.array([[1, 2, 0, 0, 4],\n",
    "                  [2, 21, 2, 3, 3]])\n",
    "\n",
    "# 找到每行中最小的n个数的索引\n",
    "n = 2\n",
    "min_indices = np.argpartition(matrix, n, axis=1)[:, :n]\n",
    "min_indices = np.sort(min_indices, axis=1)\n",
    "\n",
    "# 打印最小值的索引矩阵\n",
    "print(min_indices)\n"
   ]
  },
  {
   "cell_type": "code",
   "execution_count": 4,
   "metadata": {},
   "outputs": [
    {
     "name": "stdout",
     "output_type": "stream",
     "text": [
      "[[  0   1   2   3   4]\n",
      " [  2   3   3  21 112]]\n"
     ]
    }
   ],
   "source": [
    "import numpy as np\n",
    "\n",
    "# 原始矩阵\n",
    "matrix = np.array([[1, 2, 0, 3, 4],\n",
    "                  [112, 21, 2, 3, 3]])\n",
    "\n",
    "# 对每行进行从小到大的排序\n",
    "sorted_matrix = np.sort(matrix, axis=1)\n",
    "\n",
    "# 打印排序后的矩阵\n",
    "print(sorted_matrix)\n"
   ]
  },
  {
   "cell_type": "code",
   "execution_count": 5,
   "metadata": {},
   "outputs": [
    {
     "name": "stdout",
     "output_type": "stream",
     "text": [
      "[[0 3]\n",
      " [3 7]\n",
      " [3 9]]\n",
      "(5,)\n"
     ]
    }
   ],
   "source": [
    "import numpy as np\n",
    "\n",
    "# 原始数据\n",
    "data = np.array([0, 3, 5, 7, 9])\n",
    "\n",
    "# 索引矩阵\n",
    "indices = np.array([[0, 1], [1, 3], [1, 4]])\n",
    "\n",
    "# 使用索引矩阵获取对应的数值\n",
    "result = data[indices]\n",
    "\n",
    "# 打印结果矩阵\n",
    "print(result)\n",
    "print(data.shape)"
   ]
  },
  {
   "cell_type": "code",
   "execution_count": 6,
   "metadata": {},
   "outputs": [
    {
     "name": "stdout",
     "output_type": "stream",
     "text": [
      "Input Matrix:\n",
      "[[0 1 0 1 1]\n",
      " [1 1 0 0 1]\n",
      " [0 0 1 1 0]]\n",
      "Count Matrix:\n",
      "[[2 3]\n",
      " [2 3]\n",
      " [3 2]]\n"
     ]
    }
   ],
   "source": [
    "import numpy as np\n",
    "\n",
    "# Create the input matrix (replace this with your data)\n",
    "input_matrix = np.array([[0, 1, 0, 1, 1],\n",
    "                         [1, 1, 0, 0, 1],\n",
    "                         [0, 0, 1, 1, 0]])\n",
    "\n",
    "# Count the occurrences of 0 and 1 in each row\n",
    "count_0 = np.sum(input_matrix == 0, axis=1)\n",
    "count_1 = np.sum(input_matrix == 1, axis=1)\n",
    "\n",
    "# Construct a new matrix with the counts\n",
    "count_matrix = np.column_stack((count_0, count_1))\n",
    "\n",
    "print(\"Input Matrix:\")\n",
    "print(input_matrix)\n",
    "print(\"Count Matrix:\")\n",
    "print(count_matrix)\n"
   ]
  },
  {
   "cell_type": "code",
   "execution_count": 7,
   "metadata": {},
   "outputs": [
    {
     "name": "stdout",
     "output_type": "stream",
     "text": [
      "[1 4 7]\n"
     ]
    }
   ],
   "source": [
    "import numpy as np\n",
    "\n",
    "# 创建一个示例数组\n",
    "arr = np.array([[1, 2, 3],\n",
    "                [4, 5, 6],\n",
    "                [7, 8, 9]])\n",
    "\n",
    "# 使用切片操作获取第一列\n",
    "first_column = arr[:, 0]\n",
    "\n",
    "# 输出第一列\n",
    "print(first_column)\n"
   ]
  },
  {
   "cell_type": "code",
   "execution_count": 8,
   "metadata": {},
   "outputs": [
    {
     "name": "stdout",
     "output_type": "stream",
     "text": [
      "(455, 31)\n",
      "(114, 31)\n",
      "455\n",
      "114\n",
      "(114,)\n",
      "(455,)\n",
      "(114, 30)\n",
      "(455, 30)\n"
     ]
    }
   ],
   "source": [
    "import numpy as np\n",
    "\n",
    "# traning samples\n",
    "with open(\"testcase_0/0.in\", \"r\") as file:\n",
    "    num_training_samples = int(file.readline().strip())\n",
    "    training_samples = []\n",
    "    for _ in range(num_training_samples):\n",
    "        line = file.readline().strip().split()\n",
    "        label = int(line[0])\n",
    "        features = [float(x) for x in line[1:]]\n",
    "        training_samples.append([label] + features)\n",
    "\n",
    "training_samples = np.array(training_samples)\n",
    "training_labels = training_samples[:, 0]\n",
    "training_features = training_samples[:, 1:]\n",
    "\n",
    "# testing samples\n",
    "with open(\"testcase_0/0.in\", \"r\") as file:\n",
    "    for _ in range(num_training_samples + 1):\n",
    "        file.readline()\n",
    "\n",
    "    num_testing_samples = int(file.readline().strip())\n",
    "    testing_samples = []\n",
    "    for _ in range(num_testing_samples):\n",
    "        line = file.readline().strip().split()\n",
    "        label = int(line[0])\n",
    "        features = [float(x) for x in line[1:]]\n",
    "        testing_samples.append([label] + features)\n",
    "\n",
    "testing_samples = np.array(testing_samples)\n",
    "testing_labels = testing_samples[:, 0]\n",
    "testing_features = testing_samples[:, 1:]\n",
    "\n",
    "\n",
    "\n",
    "\n",
    "\n",
    "\n",
    "\n",
    "\n",
    "\n",
    "\n",
    "print(training_samples.shape)\n",
    "print(testing_samples.shape)\n",
    "print(num_training_samples)\n",
    "print(num_testing_samples)\n",
    "\n",
    "print(testing_labels.shape)\n",
    "print(training_labels.shape)\n",
    "\n",
    "print(testing_features.shape)\n",
    "print(training_features.shape)"
   ]
  },
  {
   "cell_type": "code",
   "execution_count": 9,
   "metadata": {},
   "outputs": [
    {
     "name": "stdout",
     "output_type": "stream",
     "text": [
      "重新排列后的数组:\n",
      "[[ 3.      10.71    20.39    ...  0.086    0.2605   0.08701]\n",
      " [ 3.      16.27    20.71    ...  0.1583   0.3103   0.082  ]\n",
      " [ 3.      19.21    18.57    ...  0.2091   0.3537   0.08294]\n",
      " ...\n",
      " [ 7.      12.25    22.44    ...  0.06335  0.31     0.08203]\n",
      " [ 7.      12.65    18.17    ...  0.1407   0.323    0.1033 ]\n",
      " [ 7.      10.97    17.2     ...  0.1555   0.254    0.09532]]\n",
      "恢复后的数组:\n",
      "[[ 3.      10.71    20.39    ...  0.086    0.2605   0.08701]\n",
      " [ 3.      15.61    19.38    ...  0.08568  0.2683   0.06829]\n",
      " [ 5.      18.63    25.11    ...  0.1848   0.3444   0.09782]\n",
      " ...\n",
      " [ 7.      12.06    18.9     ...  0.05093  0.288    0.08083]\n",
      " [ 7.      13.73    22.61    ...  0.2208   0.3596   0.1431 ]\n",
      " [ 5.       9.777   16.99    ...  0.05334  0.2533   0.08468]]\n"
     ]
    }
   ],
   "source": [
    "import numpy as np\n",
    "\n",
    "# 创建示例数组\n",
    "arr = testing_samples\n",
    "\n",
    "# 使用numpy.argsort函数获取新的行索引\n",
    "new_order = np.argsort(arr[:, 0])\n",
    "\n",
    "# 使用新的行索引重新排列数组\n",
    "rearranged_arr = arr[new_order]\n",
    "\n",
    "# 输出重新排列后的数组\n",
    "print(\"重新排列后的数组:\")\n",
    "print(rearranged_arr)\n",
    "\n",
    "# 使用逆排序恢复原始顺序\n",
    "restored_order = np.argsort(new_order)\n",
    "restored_arr = rearranged_arr[restored_order]\n",
    "\n",
    "# 输出恢复后的数组\n",
    "print(\"恢复后的数组:\")\n",
    "print(restored_arr)\n"
   ]
  },
  {
   "cell_type": "code",
   "execution_count": 10,
   "metadata": {},
   "outputs": [
    {
     "name": "stdout",
     "output_type": "stream",
     "text": [
      "重新排列后的向量:\n",
      "[10 30 40 20]\n",
      "恢复后的向量:\n",
      "[10 20 30 40]\n"
     ]
    }
   ],
   "source": [
    "import numpy as np\n",
    "\n",
    "# 创建示例数组\n",
    "arr = np.array([[3, 1, 1, 1],\n",
    "                [7, 1, 1, 1],\n",
    "                [3, 2, 1, 1],\n",
    "                [5, 1, 1, 4]])\n",
    "\n",
    "# 使用numpy.argsort函数获取新的行索引\n",
    "new_order = np.argsort(arr[:, 0])\n",
    "\n",
    "# 创建一个示例向量（这里用简单的示例向量代替计算得到的向量）\n",
    "# 在实际情况下，这个向量应该是通过某种计算得到的\n",
    "computed_vector = np.array([10, 20, 30, 40])\n",
    "\n",
    "# 使用新的行索引将向量重新排列\n",
    "rearranged_vector = computed_vector[new_order]\n",
    "\n",
    "# 输出重新排列后的向量\n",
    "print(\"重新排列后的向量:\")\n",
    "print(rearranged_vector)\n",
    "\n",
    "# 使用逆排序（原始排序的逆序）将向量还原到原始顺序\n",
    "restored_order = np.argsort(new_order)\n",
    "restored_vector = rearranged_vector[restored_order]\n",
    "\n",
    "# 输出恢复后的向量\n",
    "print(\"恢复后的向量:\")\n",
    "print(restored_vector)\n"
   ]
  },
  {
   "cell_type": "code",
   "execution_count": 11,
   "metadata": {},
   "outputs": [
    {
     "name": "stdout",
     "output_type": "stream",
     "text": [
      "Matrix 1:\n",
      "[[3 1 1 1]\n",
      " [3 1 2 1]]\n",
      "Matrix 2:\n",
      "[[5 1 3 1]]\n",
      "Matrix 3:\n",
      "[[7 1 3 1]\n",
      " [7 1 3 1]]\n"
     ]
    }
   ],
   "source": [
    "import numpy as np\n",
    "\n",
    "# 创建示例数组\n",
    "arr = np.array([[3, 1, 1, 1],\n",
    "                [3, 1, 2, 1],\n",
    "                [5, 1, 3, 1],\n",
    "                [7, 1, 3, 1],\n",
    "                [7, 1, 3, 1]])\n",
    "\n",
    "# 获取第一列的唯一值和对应的索引\n",
    "unique_values, indices = np.unique(arr[:, 0], return_inverse=True)\n",
    "\n",
    "# 使用np.split按唯一值的索引分割成多个矩阵\n",
    "matrices = np.split(arr, np.where(indices[1:] != indices[:-1])[0] + 1)\n",
    "\n",
    "# 输出分割后的矩阵\n",
    "for i, matrix in enumerate(matrices):\n",
    "    print(f\"Matrix {i + 1}:\\n{matrix}\")\n"
   ]
  },
  {
   "cell_type": "code",
   "execution_count": 12,
   "metadata": {},
   "outputs": [
    {
     "name": "stdout",
     "output_type": "stream",
     "text": [
      "[[1]\n",
      " [0]\n",
      " [1]]\n"
     ]
    }
   ],
   "source": [
    "import numpy as np\n",
    "\n",
    "# 创建两个示例数组\n",
    "array1 = np.array([[1], [0]])\n",
    "array2 = np.array([[1]])\n",
    "\n",
    "# 使用np.concatenate函数将它们拼接\n",
    "result = np.concatenate((array1, array2))\n",
    "\n",
    "# 打印拼接后的结果\n",
    "print(result)\n"
   ]
  }
 ],
 "metadata": {
  "kernelspec": {
   "display_name": "cs405_env",
   "language": "python",
   "name": "python3"
  },
  "language_info": {
   "codemirror_mode": {
    "name": "ipython",
    "version": 3
   },
   "file_extension": ".py",
   "mimetype": "text/x-python",
   "name": "python",
   "nbconvert_exporter": "python",
   "pygments_lexer": "ipython3",
   "version": "3.8.10"
  }
 },
 "nbformat": 4,
 "nbformat_minor": 2
}
